{
 "cells": [
  {
   "cell_type": "markdown",
   "id": "0f0a30ba",
   "metadata": {},
   "source": [
    "# Introduction\n",
    "In this Project, I will be using [**Breast Cancer Wisconsin (Diagnostic) Data Set**](https://www.kaggle.com/datasets/uciml/breast-cancer-wisconsin-data) dataset to classify the data using Multilayer Perceptron. I used the [**MLPClassifier**](https://scikit-learn.org/stable/modules/generated/sklearn.neural_network.MLPClassifier.html) from **scikit-learn** to build the model to classify the data. \n",
    "\n",
    "For this project we will be using functionality of [Numpy](https://numpy.org/), and [Matplotlib](https://matplotlib.org/).\n",
    "\n",
    "*  Before we start using, make sure you have installed all those packages in your local jupyter instance.(**pip install -U scikit-learn**)\n",
    "*  use **pip install scikit-optimize** (link to it can be found [here](https://pypi.org/project/scikit-optimize/#:~:text=Scikit-Optimize%2C%20or%20skopt%2C%20is%20a%20simple%20and%20efficient,built%20on%20top%20of%20NumPy%2C%20SciPy%20and%20Scikit-Learn.)) to install scikit optimizer for Bayesian optimization or try using **pip install skopt**.\n",
    "*  Make sure to download the [**data.csv**](https://drive.google.com/drive/folders/1DrVnarhz2TynTg4VOqRELAv4yg-hR7P5?usp=share_link) from here before executing the following code."
   ]
  },
  {
   "cell_type": "code",
   "execution_count": 1,
   "id": "bbf53cd4",
   "metadata": {},
   "outputs": [],
   "source": [
    "import numpy as np\n",
    "import pandas as pd\n",
    "import seaborn as sns\n",
    "import warnings\n",
    "\n",
    "from sklearn.neural_network import MLPClassifier\n",
    "from sklearn.preprocessing import MinMaxScaler\n",
    "from sklearn.model_selection import GridSearchCV\n",
    "from sklearn.metrics import accuracy_score\n",
    "from sklearn.model_selection import train_test_split\n",
    "from sklearn.decomposition import TruncatedSVD\n",
    "from skopt import BayesSearchCV\n",
    "from skopt.space import Real, Integer, Categorical\n",
    "from sklearn.exceptions import ConvergenceWarning\n",
    "\n",
    "import matplotlib.pyplot as plt"
   ]
  },
  {
   "cell_type": "markdown",
   "id": "2748a958",
   "metadata": {},
   "source": [
    "## Data\n",
    "*  Make sure to download using link given above into your local directory before you start executing.\n",
    "*  Remove the features that do not provide useful information for classification of data (**features - id, Unnamed: 32**)\n",
    "*  Here we are data classification into two classes **M:1** and **B:0**."
   ]
  },
  {
   "cell_type": "code",
   "execution_count": 2,
   "id": "91bccf28",
   "metadata": {},
   "outputs": [
    {
     "data": {
      "text/html": [
       "<div>\n",
       "<style scoped>\n",
       "    .dataframe tbody tr th:only-of-type {\n",
       "        vertical-align: middle;\n",
       "    }\n",
       "\n",
       "    .dataframe tbody tr th {\n",
       "        vertical-align: top;\n",
       "    }\n",
       "\n",
       "    .dataframe thead th {\n",
       "        text-align: right;\n",
       "    }\n",
       "</style>\n",
       "<table border=\"1\" class=\"dataframe\">\n",
       "  <thead>\n",
       "    <tr style=\"text-align: right;\">\n",
       "      <th></th>\n",
       "      <th>diagnosis</th>\n",
       "      <th>radius_mean</th>\n",
       "      <th>texture_mean</th>\n",
       "      <th>perimeter_mean</th>\n",
       "      <th>area_mean</th>\n",
       "      <th>smoothness_mean</th>\n",
       "      <th>compactness_mean</th>\n",
       "      <th>concavity_mean</th>\n",
       "      <th>concave points_mean</th>\n",
       "      <th>symmetry_mean</th>\n",
       "      <th>...</th>\n",
       "      <th>radius_worst</th>\n",
       "      <th>texture_worst</th>\n",
       "      <th>perimeter_worst</th>\n",
       "      <th>area_worst</th>\n",
       "      <th>smoothness_worst</th>\n",
       "      <th>compactness_worst</th>\n",
       "      <th>concavity_worst</th>\n",
       "      <th>concave points_worst</th>\n",
       "      <th>symmetry_worst</th>\n",
       "      <th>fractal_dimension_worst</th>\n",
       "    </tr>\n",
       "  </thead>\n",
       "  <tbody>\n",
       "    <tr>\n",
       "      <th>559</th>\n",
       "      <td>0</td>\n",
       "      <td>11.51</td>\n",
       "      <td>23.93</td>\n",
       "      <td>74.52</td>\n",
       "      <td>403.5</td>\n",
       "      <td>0.09261</td>\n",
       "      <td>0.10210</td>\n",
       "      <td>0.11120</td>\n",
       "      <td>0.04105</td>\n",
       "      <td>0.1388</td>\n",
       "      <td>...</td>\n",
       "      <td>12.480</td>\n",
       "      <td>37.16</td>\n",
       "      <td>82.28</td>\n",
       "      <td>474.2</td>\n",
       "      <td>0.12980</td>\n",
       "      <td>0.25170</td>\n",
       "      <td>0.3630</td>\n",
       "      <td>0.09653</td>\n",
       "      <td>0.2112</td>\n",
       "      <td>0.08732</td>\n",
       "    </tr>\n",
       "    <tr>\n",
       "      <th>560</th>\n",
       "      <td>0</td>\n",
       "      <td>14.05</td>\n",
       "      <td>27.15</td>\n",
       "      <td>91.38</td>\n",
       "      <td>600.4</td>\n",
       "      <td>0.09929</td>\n",
       "      <td>0.11260</td>\n",
       "      <td>0.04462</td>\n",
       "      <td>0.04304</td>\n",
       "      <td>0.1537</td>\n",
       "      <td>...</td>\n",
       "      <td>15.300</td>\n",
       "      <td>33.17</td>\n",
       "      <td>100.20</td>\n",
       "      <td>706.7</td>\n",
       "      <td>0.12410</td>\n",
       "      <td>0.22640</td>\n",
       "      <td>0.1326</td>\n",
       "      <td>0.10480</td>\n",
       "      <td>0.2250</td>\n",
       "      <td>0.08321</td>\n",
       "    </tr>\n",
       "    <tr>\n",
       "      <th>561</th>\n",
       "      <td>0</td>\n",
       "      <td>11.20</td>\n",
       "      <td>29.37</td>\n",
       "      <td>70.67</td>\n",
       "      <td>386.0</td>\n",
       "      <td>0.07449</td>\n",
       "      <td>0.03558</td>\n",
       "      <td>0.00000</td>\n",
       "      <td>0.00000</td>\n",
       "      <td>0.1060</td>\n",
       "      <td>...</td>\n",
       "      <td>11.920</td>\n",
       "      <td>38.30</td>\n",
       "      <td>75.19</td>\n",
       "      <td>439.6</td>\n",
       "      <td>0.09267</td>\n",
       "      <td>0.05494</td>\n",
       "      <td>0.0000</td>\n",
       "      <td>0.00000</td>\n",
       "      <td>0.1566</td>\n",
       "      <td>0.05905</td>\n",
       "    </tr>\n",
       "    <tr>\n",
       "      <th>562</th>\n",
       "      <td>1</td>\n",
       "      <td>15.22</td>\n",
       "      <td>30.62</td>\n",
       "      <td>103.40</td>\n",
       "      <td>716.9</td>\n",
       "      <td>0.10480</td>\n",
       "      <td>0.20870</td>\n",
       "      <td>0.25500</td>\n",
       "      <td>0.09429</td>\n",
       "      <td>0.2128</td>\n",
       "      <td>...</td>\n",
       "      <td>17.520</td>\n",
       "      <td>42.79</td>\n",
       "      <td>128.70</td>\n",
       "      <td>915.0</td>\n",
       "      <td>0.14170</td>\n",
       "      <td>0.79170</td>\n",
       "      <td>1.1700</td>\n",
       "      <td>0.23560</td>\n",
       "      <td>0.4089</td>\n",
       "      <td>0.14090</td>\n",
       "    </tr>\n",
       "    <tr>\n",
       "      <th>563</th>\n",
       "      <td>1</td>\n",
       "      <td>20.92</td>\n",
       "      <td>25.09</td>\n",
       "      <td>143.00</td>\n",
       "      <td>1347.0</td>\n",
       "      <td>0.10990</td>\n",
       "      <td>0.22360</td>\n",
       "      <td>0.31740</td>\n",
       "      <td>0.14740</td>\n",
       "      <td>0.2149</td>\n",
       "      <td>...</td>\n",
       "      <td>24.290</td>\n",
       "      <td>29.41</td>\n",
       "      <td>179.10</td>\n",
       "      <td>1819.0</td>\n",
       "      <td>0.14070</td>\n",
       "      <td>0.41860</td>\n",
       "      <td>0.6599</td>\n",
       "      <td>0.25420</td>\n",
       "      <td>0.2929</td>\n",
       "      <td>0.09873</td>\n",
       "    </tr>\n",
       "    <tr>\n",
       "      <th>564</th>\n",
       "      <td>1</td>\n",
       "      <td>21.56</td>\n",
       "      <td>22.39</td>\n",
       "      <td>142.00</td>\n",
       "      <td>1479.0</td>\n",
       "      <td>0.11100</td>\n",
       "      <td>0.11590</td>\n",
       "      <td>0.24390</td>\n",
       "      <td>0.13890</td>\n",
       "      <td>0.1726</td>\n",
       "      <td>...</td>\n",
       "      <td>25.450</td>\n",
       "      <td>26.40</td>\n",
       "      <td>166.10</td>\n",
       "      <td>2027.0</td>\n",
       "      <td>0.14100</td>\n",
       "      <td>0.21130</td>\n",
       "      <td>0.4107</td>\n",
       "      <td>0.22160</td>\n",
       "      <td>0.2060</td>\n",
       "      <td>0.07115</td>\n",
       "    </tr>\n",
       "    <tr>\n",
       "      <th>565</th>\n",
       "      <td>1</td>\n",
       "      <td>20.13</td>\n",
       "      <td>28.25</td>\n",
       "      <td>131.20</td>\n",
       "      <td>1261.0</td>\n",
       "      <td>0.09780</td>\n",
       "      <td>0.10340</td>\n",
       "      <td>0.14400</td>\n",
       "      <td>0.09791</td>\n",
       "      <td>0.1752</td>\n",
       "      <td>...</td>\n",
       "      <td>23.690</td>\n",
       "      <td>38.25</td>\n",
       "      <td>155.00</td>\n",
       "      <td>1731.0</td>\n",
       "      <td>0.11660</td>\n",
       "      <td>0.19220</td>\n",
       "      <td>0.3215</td>\n",
       "      <td>0.16280</td>\n",
       "      <td>0.2572</td>\n",
       "      <td>0.06637</td>\n",
       "    </tr>\n",
       "    <tr>\n",
       "      <th>566</th>\n",
       "      <td>1</td>\n",
       "      <td>16.60</td>\n",
       "      <td>28.08</td>\n",
       "      <td>108.30</td>\n",
       "      <td>858.1</td>\n",
       "      <td>0.08455</td>\n",
       "      <td>0.10230</td>\n",
       "      <td>0.09251</td>\n",
       "      <td>0.05302</td>\n",
       "      <td>0.1590</td>\n",
       "      <td>...</td>\n",
       "      <td>18.980</td>\n",
       "      <td>34.12</td>\n",
       "      <td>126.70</td>\n",
       "      <td>1124.0</td>\n",
       "      <td>0.11390</td>\n",
       "      <td>0.30940</td>\n",
       "      <td>0.3403</td>\n",
       "      <td>0.14180</td>\n",
       "      <td>0.2218</td>\n",
       "      <td>0.07820</td>\n",
       "    </tr>\n",
       "    <tr>\n",
       "      <th>567</th>\n",
       "      <td>1</td>\n",
       "      <td>20.60</td>\n",
       "      <td>29.33</td>\n",
       "      <td>140.10</td>\n",
       "      <td>1265.0</td>\n",
       "      <td>0.11780</td>\n",
       "      <td>0.27700</td>\n",
       "      <td>0.35140</td>\n",
       "      <td>0.15200</td>\n",
       "      <td>0.2397</td>\n",
       "      <td>...</td>\n",
       "      <td>25.740</td>\n",
       "      <td>39.42</td>\n",
       "      <td>184.60</td>\n",
       "      <td>1821.0</td>\n",
       "      <td>0.16500</td>\n",
       "      <td>0.86810</td>\n",
       "      <td>0.9387</td>\n",
       "      <td>0.26500</td>\n",
       "      <td>0.4087</td>\n",
       "      <td>0.12400</td>\n",
       "    </tr>\n",
       "    <tr>\n",
       "      <th>568</th>\n",
       "      <td>0</td>\n",
       "      <td>7.76</td>\n",
       "      <td>24.54</td>\n",
       "      <td>47.92</td>\n",
       "      <td>181.0</td>\n",
       "      <td>0.05263</td>\n",
       "      <td>0.04362</td>\n",
       "      <td>0.00000</td>\n",
       "      <td>0.00000</td>\n",
       "      <td>0.1587</td>\n",
       "      <td>...</td>\n",
       "      <td>9.456</td>\n",
       "      <td>30.37</td>\n",
       "      <td>59.16</td>\n",
       "      <td>268.6</td>\n",
       "      <td>0.08996</td>\n",
       "      <td>0.06444</td>\n",
       "      <td>0.0000</td>\n",
       "      <td>0.00000</td>\n",
       "      <td>0.2871</td>\n",
       "      <td>0.07039</td>\n",
       "    </tr>\n",
       "  </tbody>\n",
       "</table>\n",
       "<p>10 rows × 31 columns</p>\n",
       "</div>"
      ],
      "text/plain": [
       "     diagnosis  radius_mean  texture_mean  perimeter_mean  area_mean  \\\n",
       "559          0        11.51         23.93           74.52      403.5   \n",
       "560          0        14.05         27.15           91.38      600.4   \n",
       "561          0        11.20         29.37           70.67      386.0   \n",
       "562          1        15.22         30.62          103.40      716.9   \n",
       "563          1        20.92         25.09          143.00     1347.0   \n",
       "564          1        21.56         22.39          142.00     1479.0   \n",
       "565          1        20.13         28.25          131.20     1261.0   \n",
       "566          1        16.60         28.08          108.30      858.1   \n",
       "567          1        20.60         29.33          140.10     1265.0   \n",
       "568          0         7.76         24.54           47.92      181.0   \n",
       "\n",
       "     smoothness_mean  compactness_mean  concavity_mean  concave points_mean  \\\n",
       "559          0.09261           0.10210         0.11120              0.04105   \n",
       "560          0.09929           0.11260         0.04462              0.04304   \n",
       "561          0.07449           0.03558         0.00000              0.00000   \n",
       "562          0.10480           0.20870         0.25500              0.09429   \n",
       "563          0.10990           0.22360         0.31740              0.14740   \n",
       "564          0.11100           0.11590         0.24390              0.13890   \n",
       "565          0.09780           0.10340         0.14400              0.09791   \n",
       "566          0.08455           0.10230         0.09251              0.05302   \n",
       "567          0.11780           0.27700         0.35140              0.15200   \n",
       "568          0.05263           0.04362         0.00000              0.00000   \n",
       "\n",
       "     symmetry_mean  ...  radius_worst  texture_worst  perimeter_worst  \\\n",
       "559         0.1388  ...        12.480          37.16            82.28   \n",
       "560         0.1537  ...        15.300          33.17           100.20   \n",
       "561         0.1060  ...        11.920          38.30            75.19   \n",
       "562         0.2128  ...        17.520          42.79           128.70   \n",
       "563         0.2149  ...        24.290          29.41           179.10   \n",
       "564         0.1726  ...        25.450          26.40           166.10   \n",
       "565         0.1752  ...        23.690          38.25           155.00   \n",
       "566         0.1590  ...        18.980          34.12           126.70   \n",
       "567         0.2397  ...        25.740          39.42           184.60   \n",
       "568         0.1587  ...         9.456          30.37            59.16   \n",
       "\n",
       "     area_worst  smoothness_worst  compactness_worst  concavity_worst  \\\n",
       "559       474.2           0.12980            0.25170           0.3630   \n",
       "560       706.7           0.12410            0.22640           0.1326   \n",
       "561       439.6           0.09267            0.05494           0.0000   \n",
       "562       915.0           0.14170            0.79170           1.1700   \n",
       "563      1819.0           0.14070            0.41860           0.6599   \n",
       "564      2027.0           0.14100            0.21130           0.4107   \n",
       "565      1731.0           0.11660            0.19220           0.3215   \n",
       "566      1124.0           0.11390            0.30940           0.3403   \n",
       "567      1821.0           0.16500            0.86810           0.9387   \n",
       "568       268.6           0.08996            0.06444           0.0000   \n",
       "\n",
       "     concave points_worst  symmetry_worst  fractal_dimension_worst  \n",
       "559               0.09653          0.2112                  0.08732  \n",
       "560               0.10480          0.2250                  0.08321  \n",
       "561               0.00000          0.1566                  0.05905  \n",
       "562               0.23560          0.4089                  0.14090  \n",
       "563               0.25420          0.2929                  0.09873  \n",
       "564               0.22160          0.2060                  0.07115  \n",
       "565               0.16280          0.2572                  0.06637  \n",
       "566               0.14180          0.2218                  0.07820  \n",
       "567               0.26500          0.4087                  0.12400  \n",
       "568               0.00000          0.2871                  0.07039  \n",
       "\n",
       "[10 rows x 31 columns]"
      ]
     },
     "execution_count": 2,
     "metadata": {},
     "output_type": "execute_result"
    }
   ],
   "source": [
    "data = pd.read_csv('data.csv')\n",
    "data = data.drop('Unnamed: 32', axis = 1)\n",
    "data = data.drop('id', axis = 1)\n",
    "data['diagnosis'] = data['diagnosis'].map({'M': 1,'B': 0})\n",
    "data['diagnosis'].value_counts()\n",
    "data.tail(10)"
   ]
  },
  {
   "cell_type": "code",
   "execution_count": 3,
   "id": "9657928c",
   "metadata": {},
   "outputs": [],
   "source": [
    "X = data.drop('diagnosis', axis = 1).values\n",
    "y = data['diagnosis'].values"
   ]
  },
  {
   "cell_type": "code",
   "execution_count": 4,
   "id": "e01df726",
   "metadata": {},
   "outputs": [],
   "source": [
    "# Normalizing data\n",
    "scaler = MinMaxScaler()\n",
    "X = scaler.fit_transform(X)"
   ]
  },
  {
   "cell_type": "markdown",
   "id": "d8363471",
   "metadata": {},
   "source": [
    "## SVD visualization\n",
    "Here I used the SVD in [numpy](https://numpy.org/doc/stable/reference/generated/numpy.linalg.svd.html) to get eigenvalues and used plot to check for significant eigenvalues. After find the significant eigenvalues I used [TruncaresSVD](https://scikit-learn.org/stable/modules/generated/sklearn.decomposition.TruncatedSVD.html) to do low rank SVD for data **X**"
   ]
  },
  {
   "cell_type": "code",
   "execution_count": 5,
   "id": "dc94f6e8",
   "metadata": {},
   "outputs": [],
   "source": [
    "# Compute the SVD\n",
    "U, s, Vt = np.linalg.svd(X) "
   ]
  },
  {
   "cell_type": "code",
   "execution_count": 6,
   "id": "bff45ba6",
   "metadata": {},
   "outputs": [
    {
     "data": {
      "image/png": "[encoded data removed]",
      "text/plain": [
       "<Figure size 640x480 with 1 Axes>"
      ]
     },
     "metadata": {},
     "output_type": "display_data"
    }
   ],
   "source": [
    "# Plot the singular values\n",
    "fig, ax = plt.subplots()\n",
    "ax.plot(range(1, len(s)+1, 1), s, 'o-')\n",
    "ax.set_xlabel('Singular value index')\n",
    "ax.set_ylabel('Singular value')\n",
    "ax.set_title('Breast Cancer Dataset Singular Values')\n",
    "plt.show()"
   ]
  },
  {
   "cell_type": "code",
   "execution_count": 7,
   "id": "a879e03a",
   "metadata": {},
   "outputs": [
    {
     "name": "stdout",
     "output_type": "stream",
     "text": [
      "(569, 10)\n"
     ]
    }
   ],
   "source": [
    "svd = TruncatedSVD(n_components = 10, random_state=42)\n",
    "X_svd = svd.fit_transform(X)\n",
    "print(X_svd.shape)"
   ]
  },
  {
   "cell_type": "markdown",
   "id": "44ba880f",
   "metadata": {},
   "source": [
    "## Split the dataset\n",
    "I have used [test_train_split](https://scikit-learn.org/stable/modules/generated/sklearn.model_selection.train_test_split.html) to split the data into test and train data."
   ]
  },
  {
   "cell_type": "code",
   "execution_count": 8,
   "id": "4d0ecff1",
   "metadata": {},
   "outputs": [],
   "source": [
    "# Split data as train and test using train_test_split\n",
    "X_train, X_test, y_train, y_test = train_test_split(X, y, test_size = 0.33, random_state=128)"
   ]
  },
  {
   "cell_type": "markdown",
   "id": "b02686e6",
   "metadata": {},
   "source": [
    "## Implementation of MLP_grid\n",
    "I have used [GridSearchCV](https://scikit-learn.org/stable/modules/generated/sklearn.model_selection.GridSearchCV.html) from scikit-learn to implement the grid search on hyperparameters of the [MLPClassifier](https://scikit-learn.org/stable/modules/generated/sklearn.neural_network.MLPClassifier.html) to get best hyperparameters that give best accuracy on the data."
   ]
  },
  {
   "cell_type": "code",
   "execution_count": 9,
   "id": "ed88de95",
   "metadata": {},
   "outputs": [],
   "source": [
    "def MLP_grid(X_train, X_test, y_train, y_test, X, y):\n",
    "    # MLP classifier\n",
    "    mlp = MLPClassifier(max_iter = 128, early_stopping = True, random_state = 2, \n",
    "                        validation_fraction=0.2, n_iter_no_change=10)\n",
    "    # Define the hyperparameters to search over\n",
    "    param_grid = {\n",
    "    'hidden_layer_sizes': [(32, ), (16, ), (8, )],\n",
    "    'alpha': [0.001, 0.001, 0.1],\n",
    "    'learning_rate_init': [0.001, 0.01, 0.1],\n",
    "    'learning_rate': ['constant', 'invscaling', 'adaptive'],\n",
    "    'batch_size': [8, 16, 32, 64],\n",
    "    'activation': ['relu', 'tanh', 'logistic', 'identity'],\n",
    "    'solver': ['adam', 'sgd'],\n",
    "    }\n",
    "    \n",
    "    # Perform grid search to find the best hyperparameters\n",
    "    grid_search = GridSearchCV(mlp, param_grid, cv=5, n_jobs=-1,scoring='accuracy')\n",
    "    with warnings.catch_warnings():\n",
    "        warnings.filterwarnings(\"ignore\", category=ConvergenceWarning, module=\"sklearn\")\n",
    "        grid_search.fit(X_train, y_train)\n",
    "    \n",
    "    # Print the best hyperparameters and their score\n",
    "    print(\"Best hyperparameters:\", grid_search.best_params_)\n",
    "    print('Test accuracy for the best model:', grid_search.score(X_test, y_test))\n",
    "    \n",
    "    clf = MLPClassifier(**grid_search.best_params_ , random_state = 2,early_stopping = True, validation_fraction=0.2, \n",
    "                        n_iter_no_change=10)\n",
    "    from sklearn.model_selection import cross_val_score\n",
    "    scores1 = cross_val_score(clf, X, y, cv=5, scoring = 'f1')\n",
    "    scores2 = cross_val_score(clf, X, y, cv=5, scoring = 'accuracy')\n",
    "    scores3 = cross_val_score(clf, X, y, cv=5, scoring = 'precision')\n",
    "    scores4 = cross_val_score(clf, X, y, cv=5, scoring = 'recall')\n",
    "    \n",
    "    from prettytable import PrettyTable\n",
    " \n",
    "    # These 3 are the columns of the tables\n",
    "    t = PrettyTable(['performance factor', 'Mean', 'Standard Deviation +/-'])\n",
    " \n",
    "    # To insert rows:\n",
    "    t.add_row(['f1 score', round(scores1.mean(), 4), round(scores1.std(), 4)])\n",
    "    t.add_row(['Accuracy', round(scores2.mean(), 4), round(scores2.std(), 4)])\n",
    "    t.add_row(['Precision', round(scores3.mean(), 4), round(scores3.std(), 4)])\n",
    "    t.add_row(['Recall', round(scores4.mean(), 4), round(scores4.std(), 4)])\n",
    " \n",
    "    print(t)\n",
    "    \n",
    "    fig, ax = plt.subplots()\n",
    "    ax.errorbar(['f1', 'accuracy', 'Precision', 'recall'], [scores1.mean(), scores2.mean(), scores3.mean(), scores4.mean()], \n",
    "           yerr = [scores1.std(), scores2.std(), scores3.std(), scores4.std()], fmt = 'o', capsize = 5, color = 'blue')\n",
    "    ax.set_ylabel('Score')\n",
    "    ax.set_title('Model Performance Grid parameters')\n",
    "    ax.set_ylim([0.9, 1])\n",
    "    plt.show()\n",
    "    "
   ]
  },
  {
   "cell_type": "code",
   "execution_count": 10,
   "id": "1492838f",
   "metadata": {},
   "outputs": [
    {
     "name": "stdout",
     "output_type": "stream",
     "text": [
      "Best hyperparameters: {'activation': 'relu', 'alpha': 0.1, 'batch_size': 32, 'hidden_layer_sizes': (8,), 'learning_rate': 'constant', 'learning_rate_init': 0.1, 'solver': 'adam'}\n",
      "Test accuracy for the best model: 0.9574468085106383\n",
      "+--------------------+--------+------------------------+\n",
      "| performance factor |  Mean  | Standard Deviation +/- |\n",
      "+--------------------+--------+------------------------+\n",
      "|      f1 score      | 0.9645 |         0.0162         |\n",
      "|      Accuracy      | 0.9737 |         0.0124         |\n",
      "|     Precision      | 0.972  |         0.0221         |\n",
      "|       Recall       | 0.9577 |         0.0229         |\n",
      "+--------------------+--------+------------------------+\n"
     ]
    },
    {
     "data": {
      "image/png": "[encoded data removed]",
      "text/plain": [
       "<Figure size 640x480 with 1 Axes>"
      ]
     },
     "metadata": {},
     "output_type": "display_data"
    }
   ],
   "source": [
    "MLP_grid(X_train, X_test, y_train, y_test, X, y)"
   ]
  },
  {
   "cell_type": "markdown",
   "id": "451d24cb",
   "metadata": {},
   "source": [
    "## Implementation of MLP_BO\n",
    "I have used [BayesSearchCV](https://scikit-optimize.github.io/stable/modules/generated/skopt.BayesSearchCV.html) from scikit-learn to implement the Bayesian optimization on hyperparameters of the [MLPClassifier](https://scikit-learn.org/stable/modules/generated/sklearn.neural_network.MLPClassifier.html) to get best hyperparameters that give best accuracy on the data."
   ]
  },
  {
   "cell_type": "code",
   "execution_count": 11,
   "id": "7d3c6309",
   "metadata": {},
   "outputs": [],
   "source": [
    "def MLP_BO(X_train, X_test, y_train, y_test, X, y):\n",
    "    # MLP classifier\n",
    "    mlp = MLPClassifier(max_iter = 128, early_stopping = True, random_state = 2,\n",
    "                        validation_fraction=0.2, n_iter_no_change=10)\n",
    "    # Define the search space for the hyperparameters\n",
    "    search_space = {\n",
    "    'hidden_layer_sizes': Integer(32, 128, 'log-uniform'),\n",
    "    'activation': Categorical(['relu', 'tanh','logistic']),\n",
    "    'solver': Categorical(['adam', 'sgd']),\n",
    "    'alpha': Real(1e-4, 1e-1, 'log-uniform'),\n",
    "    'learning_rate': Categorical(['constant', 'invscaling', 'adaptive']),\n",
    "    'learning_rate_init': Real(1e-4, 1e-1, 'log-uniform'),\n",
    "    'batch_size': Integer(16, 64,'log-uniform'),\n",
    "    }\n",
    "    \n",
    "    # Perform Bayesian Optimization to find the best hyperparameters\n",
    "    optimizer = BayesSearchCV(mlp, search_space, cv=5, n_jobs=-1, scoring='accuracy')\n",
    "\n",
    "    with warnings.catch_warnings():\n",
    "        warnings.filterwarnings(\"ignore\", category=ConvergenceWarning, module=\"sklearn\")\n",
    "        optimizer.fit(X_train, y_train)\n",
    "    \n",
    "    # Print the best set of hyperparameters and the validation accuracy achieved with them\n",
    "    print(\"Best set of hyperparameters:\", optimizer.best_params_)\n",
    "    print('Test accuracy of best model:', optimizer.score(X_test,y_test))\n",
    "    \n",
    "    \n",
    "    clf = MLPClassifier( **optimizer.best_params_, random_state = 2, early_stopping = True, \n",
    "                        validation_fraction=0.2, n_iter_no_change=10)\n",
    "    from sklearn.model_selection import cross_val_score\n",
    "    scores1 = cross_val_score(clf, X, y, cv=5, scoring = 'f1')\n",
    "    scores2 = cross_val_score(clf, X, y, cv=5, scoring = 'accuracy')\n",
    "    scores3 = cross_val_score(clf, X, y, cv=5, scoring = 'precision')\n",
    "    scores4 = cross_val_score(clf, X, y, cv=5, scoring = 'recall')\n",
    "    \n",
    "    from prettytable import PrettyTable\n",
    " \n",
    "    # These 3 are the columns of the tables\n",
    "    t = PrettyTable(['performance factor', 'Mean', 'Standard Deviation +/-'])\n",
    " \n",
    "    # To insert rows:\n",
    "    t.add_row(['f1 score', round(scores1.mean(), 4), round(scores1.std(), 4)])\n",
    "    t.add_row(['Accuracy', round(scores2.mean(), 4), round(scores2.std(), 4)])\n",
    "    t.add_row(['Precision', round(scores3.mean(), 4), round(scores3.std(), 4)])\n",
    "    t.add_row(['Recall', round(scores4.mean(), 4), round(scores4.std(), 4)])\n",
    " \n",
    "    print(t)\n",
    "    \n",
    "    fig, ax = plt.subplots()\n",
    "    ax.errorbar(['f1', 'accuracy', 'Precision', 'recall'], [scores1.mean(), scores2.mean(), scores3.mean(), scores4.mean()], \n",
    "           yerr = [scores1.std(), scores2.std(), scores3.std(), scores4.std()], fmt = 'o', capsize = 5, color = 'blue')\n",
    "    ax.set_ylabel('Score')\n",
    "    ax.set_title('Model Performance Bayesian Optimization')\n",
    "    ax.set_ylim([0.9, 1])\n",
    "    plt.show()"
   ]
  },
  {
   "cell_type": "code",
   "execution_count": 12,
   "id": "55fe5d3c",
   "metadata": {
    "scrolled": true
   },
   "outputs": [
    {
     "name": "stderr",
     "output_type": "stream",
     "text": [
      "C:\\Users\\Will\\anaconda3\\lib\\site-packages\\skopt\\optimizer\\optimizer.py:449: UserWarning: The objective has been evaluated at this point before.\n",
      "  warnings.warn(\"The objective has been evaluated \"\n",
      "C:\\Users\\Will\\anaconda3\\lib\\site-packages\\skopt\\optimizer\\optimizer.py:449: UserWarning: The objective has been evaluated at this point before.\n",
      "  warnings.warn(\"The objective has been evaluated \"\n",
      "C:\\Users\\Will\\anaconda3\\lib\\site-packages\\skopt\\optimizer\\optimizer.py:449: UserWarning: The objective has been evaluated at this point before.\n",
      "  warnings.warn(\"The objective has been evaluated \"\n"
     ]
    },
    {
     "name": "stdout",
     "output_type": "stream",
     "text": [
      "Best set of hyperparameters: OrderedDict([('activation', 'tanh'), ('alpha', 0.07283999852199001), ('batch_size', 16), ('hidden_layer_sizes', 128), ('learning_rate', 'constant'), ('learning_rate_init', 0.1), ('solver', 'sgd')])\n",
      "Test accuracy of best model: 0.9574468085106383\n",
      "+--------------------+--------+------------------------+\n",
      "| performance factor |  Mean  | Standard Deviation +/- |\n",
      "+--------------------+--------+------------------------+\n",
      "|      f1 score      |  0.96  |         0.0117         |\n",
      "|      Accuracy      | 0.9701 |         0.0089         |\n",
      "|     Precision      | 0.9586 |         0.0251         |\n",
      "|       Recall       | 0.9625 |         0.0237         |\n",
      "+--------------------+--------+------------------------+\n"
     ]
    },
    {
     "data": {
      "image/png": "[encoded data removed]",
      "text/plain": [
       "<Figure size 640x480 with 1 Axes>"
      ]
     },
     "metadata": {},
     "output_type": "display_data"
    }
   ],
   "source": [
    "MLP_BO(X_train, X_test, y_train, y_test, X, y)"
   ]
  },
  {
   "cell_type": "markdown",
   "id": "6841f597",
   "metadata": {},
   "source": [
    "## Implementation of MLP_Funnel\n",
    "I have used [GridSearchCV](https://scikit-learn.org/stable/modules/generated/sklearn.model_selection.GridSearchCV.html) from scikit-learn to implement the grid search on hyperparameters of the [MLPClassifier](https://scikit-learn.org/stable/modules/generated/sklearn.neural_network.MLPClassifier.html) to get best hyperparameters that give best accuracy on the data. Here I did grid search on the funnel shapes multilayer perceptrons."
   ]
  },
  {
   "cell_type": "code",
   "execution_count": 13,
   "id": "bbe72925",
   "metadata": {},
   "outputs": [],
   "source": [
    "def MLP_Funnel(X_train, X_test, y_train, y_test, X, y):\n",
    "    # MLP classifier\n",
    "    mlp = MLPClassifier(max_iter = 128, random_state = 2, early_stopping = True, \n",
    "                        validation_fraction=0.2, n_iter_no_change=10)\n",
    "    # Define the hyperparameters to search over (32, 16, 8) overfitting when used cross_validation\n",
    "    param_grid = {\n",
    "    'hidden_layer_sizes': [(128,64,32), (64,32,32,16),(32,32,16), (64, 64, 32, 16)],\n",
    "    'alpha': [0.001, 0.01, 0.1],\n",
    "    'learning_rate_init': [0.001, 0.01, 0.1],\n",
    "    'learning_rate': ['constant', 'invscaling', 'adaptive'],\n",
    "    'batch_size': [32, 64, 128],\n",
    "    'activation': ['relu', 'tanh', 'logistic'],\n",
    "    'solver': ['adam', 'sgd'],\n",
    "    }\n",
    "    \n",
    "    # Perform grid search to find the best hyperparameters\n",
    "    grid_search = GridSearchCV(mlp, param_grid, cv=5, n_jobs=-1,scoring='accuracy')\n",
    "    with warnings.catch_warnings():\n",
    "        warnings.filterwarnings(\"ignore\", category=ConvergenceWarning, module=\"sklearn\")\n",
    "        grid_search.fit(X_train, y_train)\n",
    "    \n",
    "    # Print the best hyperparameters and their score\n",
    "    print(\"Best hyperparameters:\", grid_search.best_params_)\n",
    "    print('Test accuracy for the best model:', grid_search.score(X_test, y_test))\n",
    "    \n",
    "    clf = MLPClassifier(**grid_search.best_params_ , random_state = 2,early_stopping = True, validation_fraction=0.2, \n",
    "                        n_iter_no_change=10)\n",
    "    from sklearn.model_selection import cross_val_score\n",
    "    scores1 = cross_val_score(clf, X, y, cv=5, scoring = 'f1')\n",
    "    scores2 = cross_val_score(clf, X, y, cv=5, scoring = 'accuracy')\n",
    "    scores3 = cross_val_score(clf, X, y, cv=5, scoring = 'precision')\n",
    "    scores4 = cross_val_score(clf, X, y, cv=5, scoring = 'recall')\n",
    "    \n",
    "    from prettytable import PrettyTable\n",
    " \n",
    "    # These 3 are the columns of the tables\n",
    "    t = PrettyTable(['performance factor', 'Mean', 'Standard Deviation +/-'])\n",
    " \n",
    "    # To insert rows:\n",
    "    t.add_row(['f1 score', round(scores1.mean(), 4), round(scores1.std(), 4)])\n",
    "    t.add_row(['Accuracy', round(scores2.mean(), 4), round(scores2.std(), 4)])\n",
    "    t.add_row(['Precision', round(scores3.mean(), 4), round(scores3.std(), 4)])\n",
    "    t.add_row(['Recall', round(scores4.mean(), 4), round(scores4.std(), 4)])\n",
    " \n",
    "    print(t)\n",
    "    \n",
    "    fig, ax = plt.subplots()\n",
    "    ax.errorbar(['f1', 'accuracy', 'Precision', 'recall'], [scores1.mean(), scores2.mean(), scores3.mean(), scores4.mean()], \n",
    "           yerr = [scores1.std(), scores2.std(), scores3.std(), scores4.std()], fmt = 'o', capsize = 5, color = 'blue')\n",
    "    ax.set_ylabel('Score')\n",
    "    ax.set_title('Model Performance Grid parameters')\n",
    "    ax.set_ylim([0.9, 1])\n",
    "    plt.show()\n",
    "   "
   ]
  },
  {
   "cell_type": "code",
   "execution_count": 14,
   "id": "5465fd3d",
   "metadata": {},
   "outputs": [
    {
     "name": "stdout",
     "output_type": "stream",
     "text": [
      "Best hyperparameters: {'activation': 'relu', 'alpha': 0.001, 'batch_size': 32, 'hidden_layer_sizes': (32, 32, 16), 'learning_rate': 'constant', 'learning_rate_init': 0.01, 'solver': 'sgd'}\n",
      "Test accuracy for the best model: 0.9574468085106383\n",
      "+--------------------+--------+------------------------+\n",
      "| performance factor |  Mean  | Standard Deviation +/- |\n",
      "+--------------------+--------+------------------------+\n",
      "|      f1 score      | 0.9428 |         0.0125         |\n",
      "|      Accuracy      | 0.9578 |         0.0102         |\n",
      "|     Precision      | 0.9578 |          0.03          |\n",
      "|       Recall       | 0.9291 |         0.0154         |\n",
      "+--------------------+--------+------------------------+\n"
     ]
    },
    {
     "data": {
      "image/png": "[encoded data removed]",
      "text/plain": [
       "<Figure size 640x480 with 1 Axes>"
      ]
     },
     "metadata": {},
     "output_type": "display_data"
    }
   ],
   "source": [
    "MLP_Funnel(X_train, X_test, y_train, y_test, X, y)"
   ]
  },
  {
   "cell_type": "code",
   "execution_count": 15,
   "id": "9afd055e",
   "metadata": {},
   "outputs": [],
   "source": [
    "# Split data as train and test using train_test_split\n",
    "X_train_svd, X_test_svd, y_train_svd, y_test_svd = train_test_split(X_svd, y, test_size=0.33, random_state=128)"
   ]
  },
  {
   "cell_type": "code",
   "execution_count": 16,
   "id": "bc899a94",
   "metadata": {},
   "outputs": [
    {
     "name": "stdout",
     "output_type": "stream",
     "text": [
      "Best hyperparameters: {'activation': 'relu', 'alpha': 0.001, 'batch_size': 32, 'hidden_layer_sizes': (32,), 'learning_rate': 'constant', 'learning_rate_init': 0.1, 'solver': 'sgd'}\n",
      "Test accuracy for the best model: 0.9308510638297872\n",
      "+--------------------+--------+------------------------+\n",
      "| performance factor |  Mean  | Standard Deviation +/- |\n",
      "+--------------------+--------+------------------------+\n",
      "|      f1 score      | 0.9482 |         0.0137         |\n",
      "|      Accuracy      | 0.9614 |         0.0105         |\n",
      "|     Precision      | 0.9492 |         0.0267         |\n",
      "|       Recall       | 0.9483 |         0.0273         |\n",
      "+--------------------+--------+------------------------+\n"
     ]
    },
    {
     "data": {
      "image/png": "[encoded data removed]",
      "text/plain": [
       "<Figure size 640x480 with 1 Axes>"
      ]
     },
     "metadata": {},
     "output_type": "display_data"
    }
   ],
   "source": [
    "MLP_grid(X_train_svd, X_test_svd, y_train_svd, y_test_svd, X_svd, y)"
   ]
  },
  {
   "cell_type": "code",
   "execution_count": 18,
   "id": "aaf4a66d",
   "metadata": {},
   "outputs": [
    {
     "name": "stderr",
     "output_type": "stream",
     "text": [
      "C:\\Users\\Will\\anaconda3\\lib\\site-packages\\skopt\\optimizer\\optimizer.py:449: UserWarning: The objective has been evaluated at this point before.\n",
      "  warnings.warn(\"The objective has been evaluated \"\n"
     ]
    },
    {
     "name": "stdout",
     "output_type": "stream",
     "text": [
      "Best set of hyperparameters: OrderedDict([('activation', 'tanh'), ('alpha', 0.0001), ('batch_size', 16), ('hidden_layer_sizes', 37), ('learning_rate', 'constant'), ('learning_rate_init', 0.1), ('solver', 'sgd')])\n",
      "Test accuracy of best model: 0.973404255319149\n",
      "+--------------------+--------+------------------------+\n",
      "| performance factor |  Mean  | Standard Deviation +/- |\n",
      "+--------------------+--------+------------------------+\n",
      "|      f1 score      | 0.959  |         0.0098         |\n",
      "|      Accuracy      | 0.9701 |         0.007          |\n",
      "|     Precision      | 0.9809 |         0.0175         |\n",
      "|       Recall       | 0.9385 |         0.0194         |\n",
      "+--------------------+--------+------------------------+\n"
     ]
    },
    {
     "data": {
      "image/png": "[encoded data removed]",
      "text/plain": [
       "<Figure size 640x480 with 1 Axes>"
      ]
     },
     "metadata": {},
     "output_type": "display_data"
    }
   ],
   "source": [
    "MLP_BO(X_train_svd, X_test_svd, y_train_svd, y_test_svd, X_svd, y)"
   ]
  },
  {
   "cell_type": "markdown",
   "id": "15a82c72",
   "metadata": {},
   "source": [
    "**References**\n",
    "1. [Scikit-learn hyperparameter optimization for MLPClassifier](https://panjeh.medium.com/scikit-learn-hyperparameter-optimization-for-mlpclassifier-4d670413042b)\n",
    "2. [Bayesian Optimization](https://www.kaggle.com/code/plbalmeida/task-1-classifier-bayesian-optimization/notebook)\n",
    "3. [Cross Validation](https://stackabuse.com/cross-validation-and-grid-search-for-model-selection-in-python/)\n",
    "4. [gid_search](https://coderzcolumn.com/tutorials/machine-learning/scikit-learn-sklearn-cross-validation-and-hyperparameter-tuning-using-gridsearch#:~:text=sklearn%20provides%20cross_val_score%20method%20which%20tries%20various%20combinations,score%20time%20and%20test%20scores%20for%20each%20splits.)"
   ]
  }
 ],
 "metadata": {
  "kernelspec": {
   "display_name": "Python 3 (ipykernel)",
   "language": "python",
   "name": "python3"
  },
  "language_info": {
   "codemirror_mode": {
    "name": "ipython",
    "version": 3
   },
   "file_extension": ".py",
   "mimetype": "text/x-python",
   "name": "python",
   "nbconvert_exporter": "python",
   "pygments_lexer": "ipython3",
   "version": "3.9.7"
  }
 },
 "nbformat": 4,
 "nbformat_minor": 5
}
